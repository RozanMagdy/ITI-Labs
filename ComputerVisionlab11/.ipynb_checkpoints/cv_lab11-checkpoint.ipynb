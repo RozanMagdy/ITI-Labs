{
 "cells": [
  {
   "cell_type": "code",
   "execution_count": 1,
   "id": "cd629c2e",
   "metadata": {},
   "outputs": [],
   "source": [
    "import cv2\n",
    "import numpy as np\n",
    "from PIL import Image\n",
    "from matplotlib import pyplot as plt"
   ]
  },
  {
   "cell_type": "code",
   "execution_count": 2,
   "id": "98ad72ec",
   "metadata": {},
   "outputs": [],
   "source": [
    "def show(img):\n",
    "    if (len(img.shape) == 2):\n",
    "        display(Image.fromarray(img));    \n",
    "    else:\n",
    "        display(Image.fromarray(img[:,:,::-1]));\n",
    "\n"
   ]
  },
  {
   "cell_type": "code",
   "execution_count": 3,
   "id": "af4d541b",
   "metadata": {},
   "outputs": [
    {
     "data": {
      "image/png": "[encoded data removed]",
      "text/plain": [
       "<PIL.Image.Image image mode=RGB size=500x500 at 0x7F01F8DC3640>"
      ]
     },
     "metadata": {},
     "output_type": "display_data"
    }
   ],
   "source": [
    "img = cv2.imread('lab.png')\n",
    "show(img)\n",
    "gray = cv2.cvtColor(img, cv2.COLOR_BGR2GRAY)"
   ]
  },
  {
   "cell_type": "code",
   "execution_count": 4,
   "id": "26dd39a0",
   "metadata": {},
   "outputs": [],
   "source": [
    "_, th = cv2.threshold(gray, 10, 255, cv2.THRESH_BINARY)\n",
    "                        \n",
    "contours = cv2.findContours(th, cv2.RETR_TREE, cv2.CHAIN_APPROX_SIMPLE)"
   ]
  },
  {
   "cell_type": "code",
   "execution_count": 16,
   "id": "454e322e",
   "metadata": {},
   "outputs": [
    {
     "name": "stdout",
     "output_type": "stream",
     "text": [
      "8\n"
     ]
    }
   ],
   "source": [
    "def nothing(x):\n",
    "    pass\n",
    "\n",
    "reter = [\n",
    "    cv2.RETR_LIST,\n",
    "    cv2.RETR_TREE,\n",
    "    cv2.RETR_CCOMP,\n",
    "    cv2.RETR_EXTERNAL\n",
    "    ]\n",
    "\n",
    "approx= [\n",
    "    cv2.CHAIN_APPROX_NONE,\n",
    "\tcv2.CHAIN_APPROX_SIMPLE\n",
    "]\n",
    "\n",
    "strRet = [\n",
    "    'List',\n",
    "    'Tree',\n",
    "    'CCOMP',\n",
    "    'External'\n",
    "]\n",
    "\n",
    "cv2.namedWindow('Output')\n",
    "\n",
    "\n",
    "font = cv2.FONT_HERSHEY_COMPLEX\n",
    "\n",
    "while 1:\n",
    "    out = img.copy()\n",
    "\n",
    "    contours, _ = cv2.findContours(th, reter[0], approx[0])\n",
    "    cv2.drawContours(out, contours, 0, (255, 255, 255), thickness=cv2.FILLED)\n",
    "    cv2.drawContours(out, contours, 1, (255, 0, 0), thickness=cv2.FILLED)\n",
    "    cv2.drawContours(out, contours, 2, (0, 0, 255), thickness=cv2.FILLED)\n",
    "    cv2.drawContours(out, contours, 3, (255, 0, 0), thickness=cv2.FILLED)\n",
    "    cv2.drawContours(out, contours, 4, (0, 0, 255), thickness=cv2.FILLED)\n",
    "    cv2.drawContours(out, contours, 5, (255, 255, 255), thickness=cv2.FILLED)\n",
    "    cv2.drawContours(out, contours, 6, (255, 255, 255), thickness=cv2.FILLED)\n",
    "    #cv2.drawContours(out, contours, 7, (255, 255, 255), thickness=cv2.FILLED)\n",
    "    print (len(contours))\n",
    "\n",
    "    cv2.imshow('Output', out)\n",
    "    k = cv2.waitKey(0)\n",
    "    if k == 27:\n",
    "        break\n",
    "\n",
    "cv2.destroyAllWindows()"
   ]
  },
  {
   "cell_type": "code",
   "execution_count": null,
   "id": "1eb3c23e",
   "metadata": {},
   "outputs": [],
   "source": []
  }
 ],
 "metadata": {
  "kernelspec": {
   "display_name": "Python 3",
   "language": "python",
   "name": "python3"
  },
  "language_info": {
   "codemirror_mode": {
    "name": "ipython",
    "version": 3
   },
   "file_extension": ".py",
   "mimetype": "text/x-python",
   "name": "python",
   "nbconvert_exporter": "python",
   "pygments_lexer": "ipython3",
   "version": "3.8.5"
  }
 },
 "nbformat": 4,
 "nbformat_minor": 5
}
