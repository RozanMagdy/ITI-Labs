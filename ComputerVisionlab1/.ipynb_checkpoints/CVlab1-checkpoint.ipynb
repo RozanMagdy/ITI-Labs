{
 "cells": [
  {
   "cell_type": "code",
   "execution_count": 1,
   "id": "13c76691",
   "metadata": {},
   "outputs": [],
   "source": [
    "import cv2\n",
    "import numpy as np\n",
    "import matplotlib.pyplot as plt"
   ]
  },
  {
   "cell_type": "code",
   "execution_count": 57,
   "id": "d69d0121",
   "metadata": {},
   "outputs": [],
   "source": [
    "out = cv2.VideoWriter('colors.mp4',cv2.VideoWriter_fourcc('M','J','P','G'), 10, (320,320))\n",
    "for i in range(100):\n",
    "    img = np.zeros((320,320,3), dtype=float) \n",
    "    vlaues=np.random.randint(0,255, size=3)/255\n",
    "    img[::]=vlaues*255\n",
    "    cv2.imwrite('images/img'+str(i)+'.png',img)\n",
    "    img=cv2.imread('images/img'+str(i)+'.png')\n",
    "    out.write(img)\n",
    "    #while 1:\n",
    "    #cv2.imshow('frame',img)\n",
    "    #k=cv2.waitKey(1)\n",
    "    #if k==ord('q'):\n",
    "     #   break\n",
    "#cv2.destroyAllWindows()\n",
    "out.release()"
   ]
  },
  {
   "cell_type": "code",
   "execution_count": null,
   "id": "dfba4347",
   "metadata": {},
   "outputs": [],
   "source": []
  }
 ],
 "metadata": {
  "kernelspec": {
   "display_name": "Python 3",
   "language": "python",
   "name": "python3"
  },
  "language_info": {
   "codemirror_mode": {
    "name": "ipython",
    "version": 3
   },
   "file_extension": ".py",
   "mimetype": "text/x-python",
   "name": "python",
   "nbconvert_exporter": "python",
   "pygments_lexer": "ipython3",
   "version": "3.8.5"
  }
 },
 "nbformat": 4,
 "nbformat_minor": 5
}
