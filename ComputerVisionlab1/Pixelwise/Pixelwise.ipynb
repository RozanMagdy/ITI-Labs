{
 "cells": [
  {
   "cell_type": "code",
   "execution_count": 1,
   "id": "9f8f6cb4",
   "metadata": {},
   "outputs": [],
   "source": [
    "import cv2\n",
    "import numpy as np\n",
    "import matplotlib.pyplot as plt"
   ]
  },
  {
   "cell_type": "code",
   "execution_count": 15,
   "id": "1df9a538",
   "metadata": {},
   "outputs": [],
   "source": [
    "out = cv2.VideoWriter('colorlines.avi',cv2.VideoWriter_fourcc('M','J','P','G'), 10, (320,320))\n",
    "for i in range(100):\n",
    "    img = np.zeros((320,320,3), dtype=float) \n",
    "    vlaues_V=np.random.randint(0,255, size=3)\n",
    "    vlaues_H=np.random.randint(0,255, size=3)\n",
    "    postion_V=np.random.randint(0,319, size=1)\n",
    "    postion_H=np.random.randint(0,319, size=1)\n",
    "    img[postion_V[0],:]=vlaues_V\n",
    "    img[:,postion_H[0]]=vlaues_H\n",
    "    #cv2.imwrite('images/img'+str(i)+'.png',img)\n",
    "    #img=cv2.imread('images/img'+str(i)+'.png')\n",
    "    out.write(img.astype(np.uint8)) \n",
    "out.release()"
   ]
  },
  {
   "cell_type": "code",
   "execution_count": null,
   "id": "d81d7ef2",
   "metadata": {},
   "outputs": [],
   "source": []
  }
 ],
 "metadata": {
  "kernelspec": {
   "display_name": "Python 3",
   "language": "python",
   "name": "python3"
  },
  "language_info": {
   "codemirror_mode": {
    "name": "ipython",
    "version": 3
   },
   "file_extension": ".py",
   "mimetype": "text/x-python",
   "name": "python",
   "nbconvert_exporter": "python",
   "pygments_lexer": "ipython3",
   "version": "3.8.5"
  }
 },
 "nbformat": 4,
 "nbformat_minor": 5
}