{
 "cells": [
  {
   "cell_type": "code",
   "execution_count": 2,
   "id": "5acc1bad",
   "metadata": {},
   "outputs": [],
   "source": [
    "import cv2\n",
    "import numpy as np\n",
    "import matplotlib.pyplot as plt"
   ]
  },
  {
   "cell_type": "code",
   "execution_count": 14,
   "id": "7a4a0eff",
   "metadata": {},
   "outputs": [],
   "source": [
    "# mouse callback function\n",
    "def draw_shape(event,x,y,flags,param):\n",
    "    global ix,iy,drawing,mode\n",
    "    if event == cv2.EVENT_LBUTTONDOWN:\n",
    "        cv2.circle(img,(x,y),15,(255,0,0),-1)\n",
    "    elif event == cv2.EVENT_RBUTTONUP:\n",
    "        cv2.rectangle(img,(x,y),(x+10,y+10),(0,255,0),-1)\n",
    "    elif event == cv2.EVENT_RBUTTONDOWN:\n",
    "        cv2.rectangle(img,(x,y),(x+20,y+10),(0,0,255),-1)\n",
    "    elif event == cv2.EVENT_MOUSEHWHEEL:    \n",
    "        font = cv2.FONT_HERSHEY_SIMPLEX\n",
    "        cv2.putText(img, 'Rouzan', (x, yq), font, 1, (128, 0, 255), 6, cv2.FILLED)\n",
    "    elif event == cv2.EVENT_LBUTTONUP:\n",
    "        cv2.ellipse(img,(x,y),(15,15),0,0,180,(0,255,255),5)\n",
    "\n",
    "img = np.zeros((512,512,3), np.uint8)\n",
    "cv2.namedWindow('image')\n",
    "cv2.setMouseCallback('image',draw_shape)\n",
    "\n",
    "while(1):\n",
    "    cv2.imshow('image',img)\n",
    "    \n",
    "    k = cv2.waitKey(1)\n",
    "    if k == ord('r'):\n",
    "        img = np.zeros((512,512,3), np.uint8)\n",
    "    if k == ord('q'):\n",
    "        break\n",
    "\n",
    "cv2.destroyAllWindows()"
   ]
  },
  {
   "cell_type": "code",
   "execution_count": null,
   "id": "6686880c",
   "metadata": {},
   "outputs": [],
   "source": []
  }
 ],
 "metadata": {
  "kernelspec": {
   "display_name": "Python 3",
   "language": "python",
   "name": "python3"
  },
  "language_info": {
   "codemirror_mode": {
    "name": "ipython",
    "version": 3
   },
   "file_extension": ".py",
   "mimetype": "text/x-python",
   "name": "python",
   "nbconvert_exporter": "python",
   "pygments_lexer": "ipython3",
   "version": "3.8.5"
  }
 },
 "nbformat": 4,
 "nbformat_minor": 5
}
