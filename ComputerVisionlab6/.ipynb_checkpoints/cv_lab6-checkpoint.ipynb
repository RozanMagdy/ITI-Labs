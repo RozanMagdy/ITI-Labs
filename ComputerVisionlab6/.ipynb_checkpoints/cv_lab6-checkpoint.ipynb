{
 "cells": [
  {
   "cell_type": "code",
   "execution_count": 21,
   "id": "c1b40518",
   "metadata": {},
   "outputs": [],
   "source": [
    "import cv2\n",
    "import numpy as np\n",
    "from PIL import Image\n",
    "from matplotlib import pyplot as plt"
   ]
  },
  {
   "cell_type": "code",
   "execution_count": 22,
   "id": "12f30e0f",
   "metadata": {},
   "outputs": [],
   "source": [
    "img=cv2.imread('labInput.png')"
   ]
  },
  {
   "cell_type": "code",
   "execution_count": 23,
   "id": "8006261c",
   "metadata": {},
   "outputs": [],
   "source": [
    "img = cv2.cvtColor(img, cv2.COLOR_RGB2GRAY)"
   ]
  },
  {
   "cell_type": "code",
   "execution_count": 24,
   "id": "37fe8380",
   "metadata": {},
   "outputs": [
    {
     "data": {
      "text/plain": [
       "True"
      ]
     },
     "execution_count": 24,
     "metadata": {},
     "output_type": "execute_result"
    }
   ],
   "source": [
    "low=160\n",
    "high=255\n",
    "ret1, out = cv2.threshold(img, low, high, cv2.THRESH_BINARY)\n",
    "cv2.imwrite('out1.png',out)\n"
   ]
  },
  {
   "cell_type": "code",
   "execution_count": 27,
   "id": "9116b356",
   "metadata": {},
   "outputs": [],
   "source": [
    "#reading in an vedio\n",
    "cap = cv2.VideoCapture('Lanes.mp4')\n",
    "frame_width = int(cap.get(3))\n",
    "frame_height = int(cap.get(4))\n",
    "out = cv2.VideoWriter('out.avi',cv2.VideoWriter_fourcc('M','J','P','G'), 25,(frame_width,frame_height))\n",
    "#Check if camera opened successfully\n",
    "if (cap.isOpened()== False): \n",
    "    print(\"Error opening video stream or file\") \n",
    "# Read until video is completed\n",
    "while(cap.isOpened()):\n",
    "    # Capture frame-by-frame\n",
    "    ret, image = cap.read()\n",
    "    if ret == True:\n",
    "        #converting image to greyscale\n",
    "        gray = cv2.cvtColor(image,cv2.COLOR_RGB2GRAY)\n",
    "        # applaing ROI\n",
    "        #imshape = image.shape\n",
    "        #ROI=gray[450:490,320:0]\n",
    "        low=160\n",
    "        high=255\n",
    "        ret1, outvedio = cv2.threshold(gray, low, high, cv2.THRESH_BINARY)\n",
    "        cv2.imshow('Frame',outvedio)\n",
    "        # Write the frame into the file 'output.avi'\n",
    "        out.write(outvedio.astype(np.uint8))\n",
    "    \n",
    "        # Press q on keyboard to  exit\n",
    "        if cv2.waitKey(25) & 0xFF == ord('q'):\n",
    "              break\n",
    "\n",
    "# When everything done, release the video capture object\n",
    "cap.release()\n",
    "out.release()\n",
    "# Closes all the frames\n",
    "cv2.destroyAllWindows()\n",
    "\n",
    "\n",
    "\n"
   ]
  },
  {
   "cell_type": "code",
   "execution_count": null,
   "id": "c6e96755",
   "metadata": {},
   "outputs": [],
   "source": []
  }
 ],
 "metadata": {
  "kernelspec": {
   "display_name": "Python 3",
   "language": "python",
   "name": "python3"
  },
  "language_info": {
   "codemirror_mode": {
    "name": "ipython",
    "version": 3
   },
   "file_extension": ".py",
   "mimetype": "text/x-python",
   "name": "python",
   "nbconvert_exporter": "python",
   "pygments_lexer": "ipython3",
   "version": "3.8.5"
  }
 },
 "nbformat": 4,
 "nbformat_minor": 5
}
