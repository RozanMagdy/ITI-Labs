{
 "cells": [
  {
   "cell_type": "code",
   "execution_count": 3,
   "id": "c1b40518",
   "metadata": {},
   "outputs": [],
   "source": [
    "import cv2\n",
    "import numpy as np\n",
    "from PIL import Image\n",
    "from matplotlib import pyplot as plt"
   ]
  },
  {
   "cell_type": "code",
   "execution_count": 9,
   "id": "37fe8380",
   "metadata": {},
   "outputs": [
    {
     "data": {
      "text/plain": [
       "<matplotlib.image.AxesImage at 0x7f62e8dfaf40>"
      ]
     },
     "execution_count": 9,
     "metadata": {},
     "output_type": "execute_result"
    },
    {
     "data": {
      "image/png": "[encoded data removed]",
      "text/plain": [
       "<Figure size 432x288 with 1 Axes>"
      ]
     },
     "metadata": {
      "needs_background": "light"
     },
     "output_type": "display_data"
    }
   ],
   "source": [
    "img=cv2.imread('labInput.png')\n",
    "gray = cv2.cvtColor(img, cv2.COLOR_RGB2GRAY)\n",
    "mask = np.zeros_like(gray) \n",
    "ROI=gray[300:img.shape[1],200:800]\n",
    "low=160\n",
    "high=255\n",
    "ret1, out = cv2.threshold(ROI, low, high, cv2.THRESH_BINARY)\n",
    "mask[300:img.shape[1],200:800]=out\n",
    "cv2.imwrite('out1.png',mask)\n",
    "plt.imshow(mask)\n"
   ]
  },
  {
   "cell_type": "code",
   "execution_count": 16,
   "id": "9116b356",
   "metadata": {},
   "outputs": [],
   "source": [
    "#reading in an vedio\n",
    "cap = cv2.VideoCapture('Lanes.mp4')\n",
    "frame_width = int(cap.get(3))\n",
    "frame_height = int(cap.get(4))\n",
    "out = cv2.VideoWriter('out.avi',cv2.VideoWriter_fourcc('M','J','P','G'), 25,(frame_width,frame_height))\n",
    "#Check if camera opened successfully\n",
    "if (cap.isOpened()== False): \n",
    "    print(\"Error opening video stream or file\") \n",
    "# Read until video is completed\n",
    "while(cap.isOpened()):\n",
    "    # Capture frame-by-frame\n",
    "    ret, image = cap.read()\n",
    "    if ret == True:\n",
    "        #converting image to greyscale\n",
    "        gray = cv2.cvtColor(image,cv2.COLOR_RGB2GRAY)\n",
    "        # applaing ROI\n",
    "        mask = np.zeros_like(gray) \n",
    "        ROI=gray[300:image.shape[1]-60,400:800]\n",
    "        #cv2.imshow('Frame',ROI)\n",
    "        low=160\n",
    "        high=255\n",
    "        ret1, outvedio = cv2.threshold(ROI, low, high, cv2.THRESH_BINARY)\n",
    "        mask[300:image.shape[1]-60,400:800]=outvedio\n",
    "        cv2.imshow('Frame',mask)\n",
    "        # Write the frame into the file 'output.avi'\n",
    "        out.write(outvedio.astype(np.uint8))\n",
    "        \n",
    "        # Press q on keyboard to  exit\n",
    "        if cv2.waitKey(25) & 0xFF == ord('q'):\n",
    "              break\n",
    "\n",
    "# When everything done, release the video capture object\n",
    "cap.release()\n",
    "out.release()\n",
    "# Closes all the frames\n",
    "cv2.destroyAllWindows()\n",
    "\n",
    "\n",
    "\n"
   ]
  },
  {
   "cell_type": "code",
   "execution_count": null,
   "id": "c6e96755",
   "metadata": {},
   "outputs": [],
   "source": []
  }
 ],
 "metadata": {
  "kernelspec": {
   "display_name": "Python 3",
   "language": "python",
   "name": "python3"
  },
  "language_info": {
   "codemirror_mode": {
    "name": "ipython",
    "version": 3
   },
   "file_extension": ".py",
   "mimetype": "text/x-python",
   "name": "python",
   "nbconvert_exporter": "python",
   "pygments_lexer": "ipython3",
   "version": "3.8.5"
  }
 },
 "nbformat": 4,
 "nbformat_minor": 5
}
