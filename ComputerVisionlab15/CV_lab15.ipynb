{
 "cells": [
  {
   "cell_type": "code",
   "execution_count": 1,
   "id": "c8504b4d",
   "metadata": {},
   "outputs": [],
   "source": [
    "import tensorflow as tf\n",
    "import numpy as np\n",
    "import time"
   ]
  },
  {
   "cell_type": "code",
   "execution_count": 2,
   "id": "5a844230",
   "metadata": {},
   "outputs": [
    {
     "name": "stdout",
     "output_type": "stream",
     "text": [
      "2.2.0\n"
     ]
    }
   ],
   "source": [
    "print (tf.__version__)"
   ]
  },
  {
   "cell_type": "code",
   "execution_count": 3,
   "id": "334fca42",
   "metadata": {},
   "outputs": [],
   "source": [
    "model = tf.keras.Sequential(\n",
    "    tf.keras.layers.Dense(units=1, input_shape=[2])\n",
    ")"
   ]
  },
  {
   "cell_type": "code",
   "execution_count": 4,
   "id": "cabe4374",
   "metadata": {},
   "outputs": [],
   "source": [
    "model.compile(\n",
    "    loss='mean_squared_error',\n",
    "    metrics=['accuracy'],\n",
    "    optimizer=tf.keras.optimizers.Adam(0.1)\n",
    "        \n",
    "    )"
   ]
  },
  {
   "cell_type": "code",
   "execution_count": 5,
   "id": "1f629922",
   "metadata": {},
   "outputs": [
    {
     "name": "stdout",
     "output_type": "stream",
     "text": [
      "Model: \"sequential\"\n",
      "_________________________________________________________________\n",
      "Layer (type)                 Output Shape              Param #   \n",
      "=================================================================\n",
      "dense (Dense)                (None, 1)                 3         \n",
      "=================================================================\n",
      "Total params: 3\n",
      "Trainable params: 3\n",
      "Non-trainable params: 0\n",
      "_________________________________________________________________\n"
     ]
    }
   ],
   "source": [
    "model.summary()"
   ]
  },
  {
   "cell_type": "code",
   "execution_count": 6,
   "id": "d24a7d52",
   "metadata": {},
   "outputs": [],
   "source": [
    "with open('modelsummary.txt', 'w') as f:\n",
    "\n",
    "    model.summary(print_fn=lambda x: f.write(x + '\\n'))"
   ]
  },
  {
   "cell_type": "code",
   "execution_count": 7,
   "id": "888cbbe2",
   "metadata": {},
   "outputs": [
    {
     "data": {
      "image/png": "[encoded data removed]",
      "text/plain": [
       "<IPython.core.display.Image object>"
      ]
     },
     "execution_count": 7,
     "metadata": {},
     "output_type": "execute_result"
    }
   ],
   "source": [
    "tf.keras.utils.plot_model(\n",
    "        model,\n",
    "        to_file='model.png',\n",
    "        show_layer_names=True,\n",
    "        show_shapes=True\n",
    "    )"
   ]
  },
  {
   "cell_type": "code",
   "execution_count": 20,
   "id": "c501d49e",
   "metadata": {},
   "outputs": [],
   "source": [
    "inputs = np.random.randint(100, size=(10, 2))\n",
    "outputs = []\n",
    "for i in inputs:\n",
    "    #print (5*i[0] - 3*i[1] + 7)\n",
    "    outputs.append(5*i[0] - 3*i[1] + 7)\n",
    "outputs = np.array(outputs)"
   ]
  },
  {
   "cell_type": "code",
   "execution_count": 21,
   "id": "7ea47be7",
   "metadata": {},
   "outputs": [
    {
     "name": "stdout",
     "output_type": "stream",
     "text": [
      "Training took: 3.38 Sec\n"
     ]
    }
   ],
   "source": [
    "t = time.time()\n",
    "hist = model.fit(inputs, outputs, epochs=1000, verbose=0)\n",
    "print (str.format(\"Training took: {:0.2f} Sec\", time.time() - t))\n"
   ]
  },
  {
   "cell_type": "code",
   "execution_count": 22,
   "id": "2cd21fdc",
   "metadata": {},
   "outputs": [
    {
     "data": {
      "image/png": "[encoded data removed]",
      "text/plain": [
       "<Figure size 432x288 with 1 Axes>"
      ]
     },
     "metadata": {
      "needs_background": "light"
     },
     "output_type": "display_data"
    }
   ],
   "source": [
    "import matplotlib.pyplot as plt\n",
    "plt.xlabel('Epoch Number')\n",
    "plt.ylabel(\"Loss Magnitude\")\n",
    "plt.plot(hist.history['loss']);"
   ]
  },
  {
   "cell_type": "code",
   "execution_count": 23,
   "id": "bdef5fdc",
   "metadata": {},
   "outputs": [
    {
     "data": {
      "text/plain": [
       "[array([[ 5.0010557],\n",
       "        [-2.9991267]], dtype=float32),\n",
       " array([6.9112844], dtype=float32)]"
      ]
     },
     "execution_count": 23,
     "metadata": {},
     "output_type": "execute_result"
    }
   ],
   "source": [
    "model.get_weights()"
   ]
  },
  {
   "cell_type": "code",
   "execution_count": 24,
   "id": "9ef4ee81",
   "metadata": {},
   "outputs": [],
   "source": [
    "model.save('c_to_f.h5')"
   ]
  },
  {
   "cell_type": "code",
   "execution_count": 25,
   "id": "0f992b89",
   "metadata": {},
   "outputs": [],
   "source": [
    "inputs = np.random.randint(100, size=(5, 2))\n",
    "outputs = []\n",
    "for i in inputs:\n",
    "    #print (5*i[0] - 3*i[1] + 7)\n",
    "    outputs_1=[]\n",
    "    outputs_1.append(5*i[0] - 3*i[1] + 7)\n",
    "    np.array(outputs_1)\n",
    "    outputs.append(outputs_1)"
   ]
  },
  {
   "cell_type": "code",
   "execution_count": 26,
   "id": "44bcb5da",
   "metadata": {},
   "outputs": [
    {
     "data": {
      "text/plain": [
       "[[-88], [344], [38], [-40], [400]]"
      ]
     },
     "execution_count": 26,
     "metadata": {},
     "output_type": "execute_result"
    }
   ],
   "source": [
    "outputs"
   ]
  },
  {
   "cell_type": "code",
   "execution_count": 27,
   "id": "8d28a43e",
   "metadata": {},
   "outputs": [],
   "source": [
    "z_predicted=model.predict(inputs)"
   ]
  },
  {
   "cell_type": "code",
   "execution_count": 28,
   "id": "81acbeeb",
   "metadata": {},
   "outputs": [
    {
     "data": {
      "text/plain": [
       "array([[-88.01837 ],\n",
       "       [344.0216  ],\n",
       "       [ 37.94495 ],\n",
       "       [-39.994675],\n",
       "       [400.00027 ]], dtype=float32)"
      ]
     },
     "execution_count": 28,
     "metadata": {},
     "output_type": "execute_result"
    }
   ],
   "source": [
    "z_predicted"
   ]
  },
  {
   "cell_type": "code",
   "execution_count": 29,
   "id": "0ec32672",
   "metadata": {},
   "outputs": [],
   "source": [
    "accuracuy= (1-np.mean(abs(np.subtract(z_predicted, outputs))))*100 "
   ]
  },
  {
   "cell_type": "code",
   "execution_count": 30,
   "id": "f5ce0f68",
   "metadata": {},
   "outputs": [
    {
     "data": {
      "text/plain": [
       "97.98744201660156"
      ]
     },
     "execution_count": 30,
     "metadata": {},
     "output_type": "execute_result"
    }
   ],
   "source": [
    "accuracuy"
   ]
  },
  {
   "cell_type": "code",
   "execution_count": null,
   "id": "5e488992",
   "metadata": {},
   "outputs": [],
   "source": []
  }
 ],
 "metadata": {
  "kernelspec": {
   "display_name": "Python 3",
   "language": "python",
   "name": "python3"
  },
  "language_info": {
   "codemirror_mode": {
    "name": "ipython",
    "version": 3
   },
   "file_extension": ".py",
   "mimetype": "text/x-python",
   "name": "python",
   "nbconvert_exporter": "python",
   "pygments_lexer": "ipython3",
   "version": "3.8.5"
  }
 },
 "nbformat": 4,
 "nbformat_minor": 5
}
