{
 "cells": [
  {
   "cell_type": "code",
   "execution_count": 2,
   "id": "4c9807ff",
   "metadata": {},
   "outputs": [],
   "source": [
    "import cv2\n",
    "import numpy as np\n",
    "from matplotlib import pyplot as plt"
   ]
  },
  {
   "cell_type": "code",
   "execution_count": 1,
   "id": "9b018599",
   "metadata": {},
   "outputs": [],
   "source": [
    "import numpy as np\n",
    "import cv2\n",
    "\n",
    "def nothing(x):\n",
    "    pass\n",
    "\n",
    "img = cv2.imread('circles.png',0)\n",
    "#img = cv2.imread('Capture.PNG',0)\n",
    "img = cv2.medianBlur(img,5)\n",
    "\n",
    "\n",
    "cv2.namedWindow('output')\n",
    "cv2.createTrackbar('x', 'output', 1, 100, nothing)\n",
    "cv2.createTrackbar('y', 'output', 10, 100, nothing)\n",
    "cv2.createTrackbar('param1', 'output', 10, 100, nothing)\n",
    "cv2.createTrackbar('param2', 'output', 10, 100, nothing)\n",
    "cv2.createTrackbar('minR', 'output', 1, 100, nothing)\n",
    "cv2.createTrackbar('maxR', 'output', 10, 100, nothing)\n",
    "number=0\n",
    "while 1:\n",
    "    cimg = cv2.cvtColor(img, cv2.COLOR_GRAY2BGR)\n",
    "    \n",
    "    x = cv2.getTrackbarPos('x', 'output')\n",
    "    y = cv2.getTrackbarPos('y', 'output')\n",
    "    param1 = cv2.getTrackbarPos('param1', 'output')\n",
    "    param2 = cv2.getTrackbarPos('param2', 'output')\n",
    "    minR = cv2.getTrackbarPos('minR', 'output')\n",
    "    maxR = cv2.getTrackbarPos('maxR', 'output')\n",
    "\n",
    "    if x < 1:\n",
    "        x = 1\n",
    "    if y < 1:\n",
    "        y = 1\n",
    "    if param1 < 1:\n",
    "        param1 = 1\n",
    "    if param2 < 1:\n",
    "        param2 = 1\n",
    "    if minR > maxR:\n",
    "        minR = maxR - 1\n",
    "    circles = cv2.HoughCircles(img, cv2.HOUGH_GRADIENT, x, y,\n",
    "                            param1=param1,param2=param2,minRadius=minR,maxRadius=maxR)\n",
    "    \n",
    "    if circles is not None:\n",
    "        #print (circles.shape)\n",
    "        number=number+1\n",
    "        circles = np.uint16(np.around(circles))\n",
    "\n",
    "        for i in circles[0,:]:\n",
    "            # draw the outer circle\n",
    "            cv2.circle(cimg,(i[0],i[1]),i[2],(0,255,0),2)\n",
    "            # draw the center of the circle\n",
    "            cv2.circle(cimg,(i[0],i[1]),2,(0,0,255),3)\n",
    "\n",
    "    cv2.imshow('output', cimg)\n",
    "    #print(number)\n",
    "    k = cv2.waitKey(1) & 0xFF\n",
    "    if k == 27:\n",
    "        break\n",
    "\n",
    "cv2.destroyAllWindows()"
   ]
  },
  {
   "cell_type": "code",
   "execution_count": null,
   "id": "19016fd0",
   "metadata": {},
   "outputs": [],
   "source": []
  }
 ],
 "metadata": {
  "kernelspec": {
   "display_name": "Python 3",
   "language": "python",
   "name": "python3"
  },
  "language_info": {
   "codemirror_mode": {
    "name": "ipython",
    "version": 3
   },
   "file_extension": ".py",
   "mimetype": "text/x-python",
   "name": "python",
   "nbconvert_exporter": "python",
   "pygments_lexer": "ipython3",
   "version": "3.8.5"
  }
 },
 "nbformat": 4,
 "nbformat_minor": 5
}
